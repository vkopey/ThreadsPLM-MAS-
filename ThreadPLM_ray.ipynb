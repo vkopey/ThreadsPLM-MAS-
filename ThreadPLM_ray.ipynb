{
 "cells": [
  {
   "cell_type": "markdown",
   "metadata": {},
   "source": [
    "# Приклад використання мультиагентної PLM-системи різьбових з'єднань\n",
    "Розподілена МАС створена на основі концепції акторів і Python Ray. Кожен агент (актор) може виконуватись паралельно разом з іншими агентами. Можна організувати автоматичну роботу системи за допомогою простого алгоритму: виконувати функцію rule кожного агента, поки ці функції повертають якісь значення, що не рівні None. В даному прикладі це реалізовано для логічного виведення нових фактів з бази існуючих фактів і правил логічного виведення.\n",
    "\n",
    "Передусім потрібно ініціалізувати систему ray. В даному прикладі використовуються виключно ресурси одного комп'ютера, але можна використати і кластер."
   ]
  },
  {
   "cell_type": "code",
   "execution_count": 1,
   "metadata": {},
   "outputs": [
    {
     "name": "stderr",
     "output_type": "stream",
     "text": [
      "D:\\Portable\\Portable Python-3.8.9 x64\\App\\Python\\lib\\site-packages\\redis\\connection.py:72: UserWarning: redis-py works best with hiredis. Please consider installing\n",
      "  warnings.warn(msg)\n"
     ]
    },
    {
     "data": {
      "text/plain": [
       "{'node_ip_address': '127.0.0.1',\n",
       " 'raylet_ip_address': '127.0.0.1',\n",
       " 'redis_address': '127.0.0.1:6379',\n",
       " 'object_store_address': 'tcp://127.0.0.1:62637',\n",
       " 'raylet_socket_name': 'tcp://127.0.0.1:59891',\n",
       " 'webui_url': None,\n",
       " 'session_dir': 'D:\\\\Temp\\\\ray\\\\session_2022-01-29_17-08-11_601396_8612',\n",
       " 'metrics_export_port': 60824,\n",
       " 'node_id': 'c5c7e232bd0f61c044d8f05aebb9dff1508efedfec1f87ddcd971c3e'}"
      ]
     },
     "execution_count": 1,
     "metadata": {},
     "output_type": "execute_result"
    }
   ],
   "source": [
    "import ray\n",
    "ray.init()"
   ]
  },
  {
   "cell_type": "markdown",
   "metadata": {},
   "source": [
    "## Клас акторів Fact\n",
    "Клас описує поняття факту у вигляді триплету (суб'єкт, предикат, об'єкт). Функція rule повертає кортеж триплету."
   ]
  },
  {
   "cell_type": "code",
   "execution_count": 2,
   "metadata": {},
   "outputs": [],
   "source": [
    "@ray.remote\n",
    "class Fact(object):\n",
    "    def __init__(self,s,p,o):\n",
    "        self.s, self.p, self.o = s, p, o\n",
    "    def rule(self):\n",
    "        return self.s, self.p, self.o"
   ]
  },
  {
   "cell_type": "markdown",
   "metadata": {},
   "source": [
    "## Клас акторів Rule1\n",
    "Клас описує поняття правила логічного виведення для симетричної властивості p: (1, p, 3)->(3, p, 1). Для пришвидшення алгоритму використовується техніка мемоїзації - в атрибуті ready зберігаються оброблені триплети. Однократно обробляється множина триплетів ts. Повертається множина нових триплетів."
   ]
  },
  {
   "cell_type": "code",
   "execution_count": 3,
   "metadata": {},
   "outputs": [],
   "source": [
    "@ray.remote\n",
    "class Rule1(object):\n",
    "    def __init__(self,p):\n",
    "        self.p = p\n",
    "        self.ready=set()\n",
    "    def rule(self, ts=None):\n",
    "        \"\"\"\"Симетрична властивість 2: (1, 2, 3)->(3, 2, 1)\"\"\"\n",
    "        tn=set()\n",
    "        for s,p,o in ts:\n",
    "            if self.p!=p: continue\n",
    "            if (s,p,o) in self.ready: continue\n",
    "            self.ready.add((s,p,o))\n",
    "            self.ready.add((o,p,s))\n",
    "            tn.add((o,p,s))\n",
    "        return tn"
   ]
  },
  {
   "cell_type": "markdown",
   "metadata": {},
   "source": [
    "## Клас акторів Rule2\n",
    "Клас описує поняття правила логічного виведення для транзитивної властивості p: (1, p, 3)&(3, p, 4)->(1, p, 4). Однократно обробляється множина триплетів ts. Повертається множина нових триплетів. Для пришвидшення алгоритму можна використати техніку мемоїзації і зберігати множину оброблених триплетів в ready. З множини ts можна буде вилучити ready."
   ]
  },
  {
   "cell_type": "code",
   "execution_count": 4,
   "metadata": {},
   "outputs": [],
   "source": [
    "@ray.remote\n",
    "class Rule2(object):\n",
    "    def __init__(self,p):\n",
    "        self.p = p\n",
    "        self.ready=set()\n",
    "    def rule(self, ts=None):\n",
    "        \"\"\"\"Транзитивна властивість 2: (1, 2, 3)&(3, 2, 4)->(1, 2, 4)\"\"\"\n",
    "        tn=set()\n",
    "        X=set()\n",
    "        for s,p,o in ts:\n",
    "            if self.p!=p: continue\n",
    "            X.add((s,p,o))\n",
    "            for sx,px,ox in X:\n",
    "                if (ox==s and sx!=o):\n",
    "                    if (sx,p,o) in self.ready: continue\n",
    "                    tn.add((sx,p,o))\n",
    "                    self.ready.add((sx,p,o))\n",
    "                elif (sx==o and ox!=s):\n",
    "                    if (s,p,ox) in self.ready: continue\n",
    "                    tn.add((s,p,ox))\n",
    "                    self.ready.add((s,p,ox))\n",
    "        return tn"
   ]
  },
  {
   "cell_type": "markdown",
   "metadata": {},
   "source": [
    "## Клас акторів Reasoner\n",
    "\n",
    "Клас описує поняття машини логічного виведення. Функція rule запускає ОДНОКРАТНО паралельно правила агентів rs, яким передаються триплети з фактами ts. Функція повертає множину триплетів з новими фактами. Аналогічно є можливість використати техніку мемоїзації, але це в класі не реалізовано."
   ]
  },
  {
   "cell_type": "code",
   "execution_count": 5,
   "metadata": {},
   "outputs": [],
   "source": [
    "@ray.remote\n",
    "class Reasoner(object):\n",
    "    def __init__(self):\n",
    "        self.ready=set()\n",
    "    def triplets(self, fs):\n",
    "        refs=[f.rule.remote() for f in fs]\n",
    "        ts=ray.get(refs)\n",
    "        return ts\n",
    "    def rule(self, rs, ts):\n",
    "        refs=[r.rule.remote(ts) for r in rs] # запустити паралельно\n",
    "        T=ray.get(refs) # список множин триплетів\n",
    "        r=set()\n",
    "        for t in T:\n",
    "            r.update(t)\n",
    "        return r"
   ]
  },
  {
   "cell_type": "markdown",
   "metadata": {},
   "source": [
    "## Клас акторів FEA\n",
    "Клас описує поняття FEA системи для скінченно-елементної симуляції моделі різьбового з'єднання. Для моделювання використовується pycalculix. Функція rule отримує параметр з'єднання x і повертає максимальне напруження. Для мемоїзації використовується словник ready."
   ]
  },
  {
   "cell_type": "code",
   "execution_count": 6,
   "metadata": {},
   "outputs": [],
   "source": [
    "@ray.remote\n",
    "class FEA(object):\n",
    "    def __init__(self):\n",
    "        self.ready=dict()\n",
    "    def rule(self, x=0.1):\n",
    "        #if x in self.ready: return None\n",
    "        import mypycalculix\n",
    "        mypycalculix.show_gui = False\n",
    "        mypycalculix.hh=x\n",
    "        s=mypycalculix.run()\n",
    "        self.ready[x]=s\n",
    "        return s"
   ]
  },
  {
   "cell_type": "markdown",
   "metadata": {},
   "source": [
    "## Клас акторів CAM\n",
    "Клас описує поняття CAM системи для генерації G-коду для фрезерування різьби ніпеля на 3-осьовому фрезерному верстаті з ЧПК. Функція rule отримує параметр з'єднання x і повертає відповідний список опорних точок G-коду. Для мемоїзації використовується атрибут ready."
   ]
  },
  {
   "cell_type": "code",
   "execution_count": 7,
   "metadata": {},
   "outputs": [],
   "source": [
    "@ray.remote\n",
    "class CAM(object):\n",
    "    def __init__(self):\n",
    "        self.ready=dict()\n",
    "    def rule(self, x=0.1):\n",
    "        #if x in self.ready: return None\n",
    "        import CNC_thread_mill\n",
    "        rf=CNC_thread_mill.rf=10 # радіус фрези (0, якщо система ЧПК має команди корекції)\n",
    "        # товщина фрези 0.5 мм\n",
    "        # перші два проходи - примірочний r=10 і остаточний для 1-ї точки профілю\n",
    "        P=CNC_thread_mill.TreadMulti(R=[10+rf, 9.5+x+rf], Z=[0, 0],  h=14, p=2, fi=0, n=64)\n",
    "        code=CNC_thread_mill.Gcode(P, \"cnc.txt\") # код, зберегти у файл\n",
    "        self.ready[x]=P\n",
    "        return P"
   ]
  },
  {
   "cell_type": "markdown",
   "metadata": {},
   "source": [
    "# Клас акторів SCADA\n",
    "\n",
    "Клас описує поняття SCADA системи для моніторингу технічного стану різьбового з'єднання. Для вимірювання деформацій використовується тензодатчик, Arduino UNO, мікросхема HX711 та пакет pyserial. Функція rule отримує параметр з'єднання x і повертає залежність деформацій від часу роботи."
   ]
  },
  {
   "cell_type": "code",
   "execution_count": 8,
   "metadata": {},
   "outputs": [],
   "source": [
    "@ray.remote\n",
    "class SCADA(object):\n",
    "    def __init__(self):\n",
    "        self.ready=dict()\n",
    "    def rule(self, x=0.1):\n",
    "        #if x in self.ready: return None\n",
    "        import HX711proteus_client\n",
    "        X,Y=HX711proteus_client.run()\n",
    "        self.ready[x]=X,Y\n",
    "        return X,Y"
   ]
  },
  {
   "cell_type": "markdown",
   "metadata": {},
   "source": [
    "## Створення агентів системи (акторів)\n",
    "Кожен агент може працювати паралельно з іншими. Проте це залежить від кількості процесорів на кластері. В даному випадку введені факти, які містять відповідність значень вхідних і вихідних параметрів моделі різьбового з'єднання: геометричного параметра h (мм), максимального еквівалентного напруження в різьбі Seqv (МПа), максимального сумарного переміщення utot (мм). Ці факти можуть бути отримані в результаті моделювання, експериментів, промислових даних на попередніх етапах ЖЦ."
   ]
  },
  {
   "cell_type": "code",
   "execution_count": 9,
   "metadata": {},
   "outputs": [],
   "source": [
    "f1=Fact.remote(\"Seqv=14\", \"відповідає\", \"h=0.1\")\n",
    "f2=Fact.remote(\"h=0.1\", \"відповідає\", \"utot=869e-6\")\n",
    "f3=Fact.remote(\"h=0.2\", \"відповідає\", \"Seqv=16\")\n",
    "r1=Rule1.remote(\"відповідає\")\n",
    "r2=Rule2.remote(\"відповідає\")\n",
    "r=Reasoner.remote()\n",
    "fea1=FEA.remote()\n",
    "cam1=CAM.remote()\n",
    "scada1=SCADA.remote()"
   ]
  },
  {
   "cell_type": "markdown",
   "metadata": {},
   "source": [
    "## Логічне виведення фактів\n",
    "Функція rule агентів, які містять правила, викликається до тих пір, поки є результати (нові факти). Виводяться триплети з новими фактами. Ці тріплети можна використати для створення нових агентів-фактів."
   ]
  },
  {
   "cell_type": "code",
   "execution_count": 10,
   "metadata": {},
   "outputs": [
    {
     "name": "stdout",
     "output_type": "stream",
     "text": [
      "{('Seqv=16', 'відповідає', 'h=0.2'), ('Seqv=14', 'відповідає', 'utot=869e-6'), ('h=0.1', 'відповідає', 'Seqv=14'), ('utot=869e-6', 'відповідає', 'h=0.1')}\n"
     ]
    }
   ],
   "source": [
    "fs=[f1, f2, f3]\n",
    "rs=[r1, r2]\n",
    "T=set()\n",
    "re=1\n",
    "while re:\n",
    "    re=0\n",
    "    ts=ray.get(r.triplets.remote(fs))\n",
    "    tn=ray.get(r.rule.remote(rs, ts))\n",
    "    if tn:\n",
    "        T.update(tn)\n",
    "        re+=1\n",
    "print(T)"
   ]
  },
  {
   "cell_type": "markdown",
   "metadata": {},
   "source": [
    "## FE-симуляція\n",
    "За допомогою агента fea1 виконується симуляція різьбового з'єднання з параметром h=0,1 мм (зазор в різьбі). Відразу очікуємо результату. Але є можливість запустити симуляцію асинхронно ro=fea1.rule.remote(0.1) і отримати результат в комірках нижче y1=ray.get(ro)."
   ]
  },
  {
   "cell_type": "code",
   "execution_count": 11,
   "metadata": {},
   "outputs": [],
   "source": [
    "%%capture\n",
    "y1=ray.get(fea1.rule.remote(0.1))"
   ]
  },
  {
   "cell_type": "markdown",
   "metadata": {},
   "source": [
    "Виведення результатів симуляції. Максимальне еквівалентне напруження за Мізесом (Па):"
   ]
  },
  {
   "cell_type": "code",
   "execution_count": 12,
   "metadata": {},
   "outputs": [
    {
     "data": {
      "text/plain": [
       "14367274.322702967"
      ]
     },
     "execution_count": 12,
     "metadata": {},
     "output_type": "execute_result"
    }
   ],
   "source": [
    "y1"
   ]
  },
  {
   "cell_type": "markdown",
   "metadata": {},
   "source": [
    "Агент fea1 (за допомогою pycalculix) зберігає результати в робочому каталозі в рисунках png. Ці рисунки відображаються тут за допомогою Markdown розмітки `![name.png](name.png)`.\n",
    "\n",
    "Сумарні деформації (мм):\n",
    "\n",
    "![thread_utot.png](thread_utot.png)\n",
    "\n",
    "Еквівалентні напруження Мізеса (Па):\n",
    "\n",
    "![thread_Seqv.png](thread_Seqv.png)"
   ]
  },
  {
   "cell_type": "markdown",
   "metadata": {},
   "source": [
    "## Генерація G-коду для фрезерування різьби\n",
    "Генерація G-коду для фрезерування зовнішньої різьби з параметром h=0,1 мм відбувається за допомогою агента cam1. Відразу очікуємо результату. Але є можливість запустити симуляцію асинхронно ro=cam1.rule.remote(0.1) і отримати результат в комірках нижче y1=ray.get(ro)."
   ]
  },
  {
   "cell_type": "code",
   "execution_count": 13,
   "metadata": {},
   "outputs": [
    {
     "name": "stdout",
     "output_type": "stream",
     "text": [
      "\u001b[2m\u001b[36m(FEA\r",
      " pid=4356)\u001b[0m File thread_utot.png was saved.\r\n"
     ]
    }
   ],
   "source": [
    "y2=ray.get(cam1.rule.remote(0.1))"
   ]
  },
  {
   "cell_type": "markdown",
   "metadata": {},
   "source": [
    "Перші опорні точки згенерованої траєкторії:"
   ]
  },
  {
   "cell_type": "code",
   "execution_count": 14,
   "metadata": {},
   "outputs": [
    {
     "data": {
      "text/plain": [
       "[(30, 0, 0),\n",
       " (20.0, -0.0, 0.0),\n",
       " (19.90326350260106, -1.9647142148487098, 0.03131991051454139),\n",
       " (19.613989805397143, -3.9104224725439822, 0.06263982102908278),\n",
       " (19.13497724081396, -5.818302672904855, 0.09395973154362416)]"
      ]
     },
     "execution_count": 14,
     "metadata": {},
     "output_type": "execute_result"
    }
   ],
   "source": [
    "y2[0:5]"
   ]
  },
  {
   "cell_type": "markdown",
   "metadata": {},
   "source": [
    "Візуалізація опорних точок траєкторії за допомогою Matplotlib:"
   ]
  },
  {
   "cell_type": "code",
   "execution_count": 15,
   "metadata": {},
   "outputs": [
    {
     "data": {
      "image/png": "[encoded data removed]",
      "text/plain": [
       "<Figure size 432x288 with 1 Axes>"
      ]
     },
     "metadata": {
      "needs_background": "light"
     },
     "output_type": "display_data"
    }
   ],
   "source": [
    "import CNC_thread_mill\n",
    "CNC_thread_mill.plotCNC(y2)"
   ]
  },
  {
   "cell_type": "markdown",
   "metadata": {},
   "source": [
    "# Моніторинг технічного стану\n",
    "За допомогою агента scada1 виконується моніторинг технічного стану (під час експлуатації або випробування) різьбового з'єднання з параметром h=0,1 мм (зазор в різьбі)."
   ]
  },
  {
   "cell_type": "code",
   "execution_count": null,
   "metadata": {},
   "outputs": [],
   "source": [
    "scada1ref=scada1.rule.remote(0.1)"
   ]
  },
  {
   "cell_type": "code",
   "execution_count": 16,
   "metadata": {},
   "outputs": [
    {
     "name": "stdout",
     "output_type": "stream",
     "text": [
      "\u001b[2m\u001b[36m(SCADA\r",
      " pid=10448)\u001b[0m COM7\r\n"
     ]
    },
    {
     "data": {
      "image/png": "[encoded data removed]",
      "text/plain": [
       "<Figure size 432x288 with 1 Axes>"
      ]
     },
     "metadata": {
      "needs_background": "light"
     },
     "output_type": "display_data"
    }
   ],
   "source": [
    "# виконайте цю комірку, коли rule завершить роботу\n",
    "X,Y=ray.get(scada1ref)\n",
    "import matplotlib.pyplot as plt\n",
    "plt.plot(X,Y)\n",
    "plt.show()"
   ]
  },
  {
   "cell_type": "markdown",
   "metadata": {},
   "source": [
    "Робота з документом може бути ітеративною, тобто на будь-якому етапі можна вернутись до потрібних комірок, змінити дані, виконати код і отримати нові результати. Якщо потрібно завершити роботу з ray, введіть:"
   ]
  },
  {
   "cell_type": "code",
   "execution_count": 17,
   "metadata": {},
   "outputs": [],
   "source": [
    "#ray.shutdown()"
   ]
  }
 ],
 "metadata": {
  "interpreter": {
   "hash": "915b61df1bd70d3cde77ea06c6075ab9569961b29afa25c2f6128258f242b785"
  },
  "kernelspec": {
   "display_name": "Python 3 (ipykernel)",
   "language": "python",
   "name": "python3"
  },
  "language_info": {
   "codemirror_mode": {
    "name": "ipython",
    "version": 3
   },
   "file_extension": ".py",
   "mimetype": "text/x-python",
   "name": "python",
   "nbconvert_exporter": "python",
   "pygments_lexer": "ipython3",
   "version": "3.8.9"
  }
 },
 "nbformat": 4,
 "nbformat_minor": 2
}
